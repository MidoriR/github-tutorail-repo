{
 "cells": [
  {
   "cell_type": "markdown",
   "metadata": {},
   "source": [
    "# Notebook from the tutorial"
   ]
  },
  {
   "cell_type": "code",
   "execution_count": 1,
   "metadata": {},
   "outputs": [],
   "source": [
    "import pandas as pd"
   ]
  },
  {
   "cell_type": "code",
   "execution_count": 2,
   "metadata": {},
   "outputs": [
    {
     "data": {
      "text/html": [
       "<div>\n",
       "<style scoped>\n",
       "    .dataframe tbody tr th:only-of-type {\n",
       "        vertical-align: middle;\n",
       "    }\n",
       "\n",
       "    .dataframe tbody tr th {\n",
       "        vertical-align: top;\n",
       "    }\n",
       "\n",
       "    .dataframe thead th {\n",
       "        text-align: right;\n",
       "    }\n",
       "</style>\n",
       "<table border=\"1\" class=\"dataframe\">\n",
       "  <thead>\n",
       "    <tr style=\"text-align: right;\">\n",
       "      <th></th>\n",
       "      <th>Province_State</th>\n",
       "      <th>Country_Region</th>\n",
       "      <th>Last_Update</th>\n",
       "      <th>Lat</th>\n",
       "      <th>Long_</th>\n",
       "      <th>Confirmed</th>\n",
       "      <th>Deaths</th>\n",
       "      <th>Recovered</th>\n",
       "      <th>Active</th>\n",
       "      <th>FIPS</th>\n",
       "      <th>Incident_Rate</th>\n",
       "      <th>People_Tested</th>\n",
       "      <th>People_Hospitalized</th>\n",
       "      <th>Mortality_Rate</th>\n",
       "      <th>UID</th>\n",
       "      <th>ISO3</th>\n",
       "      <th>Testing_Rate</th>\n",
       "      <th>Hospitalization_Rate</th>\n",
       "    </tr>\n",
       "  </thead>\n",
       "  <tbody>\n",
       "    <tr>\n",
       "      <td>0</td>\n",
       "      <td>Alabama</td>\n",
       "      <td>US</td>\n",
       "      <td>2020-07-26 04:35:13</td>\n",
       "      <td>32.3182</td>\n",
       "      <td>-86.9023</td>\n",
       "      <td>78130</td>\n",
       "      <td>1456</td>\n",
       "      <td>32510.0</td>\n",
       "      <td>44164.0</td>\n",
       "      <td>1</td>\n",
       "      <td>1593.454051</td>\n",
       "      <td>641611.0</td>\n",
       "      <td>9157.0</td>\n",
       "      <td>1.863561</td>\n",
       "      <td>84000001</td>\n",
       "      <td>USA</td>\n",
       "      <td>13085.596403</td>\n",
       "      <td>11.720210</td>\n",
       "    </tr>\n",
       "    <tr>\n",
       "      <td>1</td>\n",
       "      <td>Alaska</td>\n",
       "      <td>US</td>\n",
       "      <td>2020-07-26 04:35:13</td>\n",
       "      <td>61.3707</td>\n",
       "      <td>-152.4044</td>\n",
       "      <td>2339</td>\n",
       "      <td>20</td>\n",
       "      <td>815.0</td>\n",
       "      <td>1504.0</td>\n",
       "      <td>2</td>\n",
       "      <td>319.734261</td>\n",
       "      <td>205066.0</td>\n",
       "      <td>NaN</td>\n",
       "      <td>0.855066</td>\n",
       "      <td>84000002</td>\n",
       "      <td>USA</td>\n",
       "      <td>28031.905078</td>\n",
       "      <td>NaN</td>\n",
       "    </tr>\n",
       "    <tr>\n",
       "      <td>2</td>\n",
       "      <td>American Samoa</td>\n",
       "      <td>US</td>\n",
       "      <td>2020-07-26 04:35:13</td>\n",
       "      <td>-14.2710</td>\n",
       "      <td>-170.1320</td>\n",
       "      <td>0</td>\n",
       "      <td>0</td>\n",
       "      <td>NaN</td>\n",
       "      <td>0.0</td>\n",
       "      <td>60</td>\n",
       "      <td>0.000000</td>\n",
       "      <td>1037.0</td>\n",
       "      <td>NaN</td>\n",
       "      <td>NaN</td>\n",
       "      <td>16</td>\n",
       "      <td>ASM</td>\n",
       "      <td>1863.733578</td>\n",
       "      <td>NaN</td>\n",
       "    </tr>\n",
       "    <tr>\n",
       "      <td>3</td>\n",
       "      <td>Arizona</td>\n",
       "      <td>US</td>\n",
       "      <td>2020-07-26 04:35:13</td>\n",
       "      <td>33.7298</td>\n",
       "      <td>-111.4312</td>\n",
       "      <td>160041</td>\n",
       "      <td>3286</td>\n",
       "      <td>20566.0</td>\n",
       "      <td>136189.0</td>\n",
       "      <td>4</td>\n",
       "      <td>2198.752885</td>\n",
       "      <td>857609.0</td>\n",
       "      <td>7627.0</td>\n",
       "      <td>2.053224</td>\n",
       "      <td>84000004</td>\n",
       "      <td>USA</td>\n",
       "      <td>11782.419896</td>\n",
       "      <td>4.765654</td>\n",
       "    </tr>\n",
       "    <tr>\n",
       "      <td>4</td>\n",
       "      <td>Arkansas</td>\n",
       "      <td>US</td>\n",
       "      <td>2020-07-26 04:35:13</td>\n",
       "      <td>34.9697</td>\n",
       "      <td>-92.3731</td>\n",
       "      <td>37981</td>\n",
       "      <td>399</td>\n",
       "      <td>29827.0</td>\n",
       "      <td>7755.0</td>\n",
       "      <td>5</td>\n",
       "      <td>1258.564174</td>\n",
       "      <td>461464.0</td>\n",
       "      <td>2361.0</td>\n",
       "      <td>1.050525</td>\n",
       "      <td>84000005</td>\n",
       "      <td>USA</td>\n",
       "      <td>15291.384066</td>\n",
       "      <td>6.216266</td>\n",
       "    </tr>\n",
       "  </tbody>\n",
       "</table>\n",
       "</div>"
      ],
      "text/plain": [
       "   Province_State Country_Region          Last_Update      Lat     Long_  \\\n",
       "0         Alabama             US  2020-07-26 04:35:13  32.3182  -86.9023   \n",
       "1          Alaska             US  2020-07-26 04:35:13  61.3707 -152.4044   \n",
       "2  American Samoa             US  2020-07-26 04:35:13 -14.2710 -170.1320   \n",
       "3         Arizona             US  2020-07-26 04:35:13  33.7298 -111.4312   \n",
       "4        Arkansas             US  2020-07-26 04:35:13  34.9697  -92.3731   \n",
       "\n",
       "   Confirmed  Deaths  Recovered    Active  FIPS  Incident_Rate  People_Tested  \\\n",
       "0      78130    1456    32510.0   44164.0     1    1593.454051       641611.0   \n",
       "1       2339      20      815.0    1504.0     2     319.734261       205066.0   \n",
       "2          0       0        NaN       0.0    60       0.000000         1037.0   \n",
       "3     160041    3286    20566.0  136189.0     4    2198.752885       857609.0   \n",
       "4      37981     399    29827.0    7755.0     5    1258.564174       461464.0   \n",
       "\n",
       "   People_Hospitalized  Mortality_Rate       UID ISO3  Testing_Rate  \\\n",
       "0               9157.0        1.863561  84000001  USA  13085.596403   \n",
       "1                  NaN        0.855066  84000002  USA  28031.905078   \n",
       "2                  NaN             NaN        16  ASM   1863.733578   \n",
       "3               7627.0        2.053224  84000004  USA  11782.419896   \n",
       "4               2361.0        1.050525  84000005  USA  15291.384066   \n",
       "\n",
       "   Hospitalization_Rate  \n",
       "0             11.720210  \n",
       "1                   NaN  \n",
       "2                   NaN  \n",
       "3              4.765654  \n",
       "4              6.216266  "
      ]
     },
     "execution_count": 2,
     "metadata": {},
     "output_type": "execute_result"
    }
   ],
   "source": [
    "cdf = pd.read_csv('https://raw.githubusercontent.com/CSSEGISandData/COVID-19/master/csse_covid_19_data/csse_covid_19_daily_reports_us/07-25-2020.csv')\n",
    "cdf.head()"
   ]
  },
  {
   "cell_type": "code",
   "execution_count": 9,
   "metadata": {},
   "outputs": [
    {
     "data": {
      "text/plain": [
       "<matplotlib.axes._subplots.AxesSubplot at 0x116a25b50>"
      ]
     },
     "execution_count": 9,
     "metadata": {},
     "output_type": "execute_result"
    },
    {
     "data": {
      "image/png": "[encoded data removed]",
      "text/plain": [
       "<Figure size 432x288 with 1 Axes>"
      ]
     },
     "metadata": {
      "needs_background": "light"
     },
     "output_type": "display_data"
    }
   ],
   "source": [
    "cdf.groupby('Province_State').Confirmed.mean().plot.bar()"
   ]
  },
  {
   "cell_type": "code",
   "execution_count": null,
   "metadata": {},
   "outputs": [],
   "source": []
  }
 ],
 "metadata": {
  "kernelspec": {
   "display_name": "Python 3",
   "language": "python",
   "name": "python3"
  },
  "language_info": {
   "codemirror_mode": {
    "name": "ipython",
    "version": 3
   },
   "file_extension": ".py",
   "mimetype": "text/x-python",
   "name": "python",
   "nbconvert_exporter": "python",
   "pygments_lexer": "ipython3",
   "version": "3.7.7"
  }
 },
 "nbformat": 4,
 "nbformat_minor": 4
}
